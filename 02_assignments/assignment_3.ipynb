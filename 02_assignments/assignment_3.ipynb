{
 "cells": [
  {
   "cell_type": "markdown",
   "id": "7b0bcac6-5086-4f4e-928a-570a9ff7ae58",
   "metadata": {},
   "source": [
    "# Assignment 3"
   ]
  },
  {
   "cell_type": "markdown",
   "id": "5fce0350-2a17-4e93-8d4c-0b8748fdfc32",
   "metadata": {},
   "source": [
    "As before, if a question can be answered with 'yes/no', or a numeric value, you may simply state as much. If you incorporate code from the internet (which is not required and generally not advisable), please cite the source within your code (providing a URL is sufficient).\n",
    "\n",
    "We will go through comparable code and concepts in the live learning session. If you run into trouble, start by using the help `help()` function in Python, to get information about the datasets and function in question. The internet is also a great resource when coding (though note that no outside searches are required by the assignment!). If you do incorporate code from the internet, please cite the source within your code (providing a URL is sufficient).\n",
    "\n",
    "Please bring questions that you cannot work out on your own to office hours, work periods or share with your peers on Slack. We will work with you through the issue."
   ]
  },
  {
   "cell_type": "code",
   "execution_count": 4,
   "id": "b92f7c91",
   "metadata": {},
   "outputs": [],
   "source": [
    "import numpy as np\n",
    "import pandas as pd\n",
    "import matplotlib.pyplot as plt\n",
    "import statsmodels.api as sm"
   ]
  },
  {
   "cell_type": "markdown",
   "id": "d7fff1dd-e4ce-4a60-96a0-d08136e9bf5e",
   "metadata": {},
   "source": [
    "### Question 1: Resampling via Bootstrapping\n",
    "\n",
    "Now, we'll use the `iris` dataset, which we will add to Python using the `statsmodels` library. As always, start by reviewing a description of the dataset, by printing the dataset."
   ]
  },
  {
   "cell_type": "code",
   "execution_count": 5,
   "id": "47f4dcf5-0d4c-41ea-892d-d9f2c1aa1859",
   "metadata": {},
   "outputs": [],
   "source": [
    "# Import\n",
    "iris = sm.datasets.get_rdataset('iris', 'datasets')\n",
    "df = pd.DataFrame(iris.data)"
   ]
  },
  {
   "cell_type": "markdown",
   "id": "7717a32c",
   "metadata": {},
   "source": [
    "_(i)_ Create an `alpha_func(D, idx)` function which takes the `Sepal`'s `width` and `length` to calculate for alpha"
   ]
  },
  {
   "cell_type": "code",
   "execution_count": 8,
   "id": "f3da5483",
   "metadata": {},
   "outputs": [],
   "source": [
    "# Your code here\n",
    "def alpha_func(D, idx):\n",
    "    sample = D.iloc[idx]\n",
    "    sepal_length = sample['Sepal.Length']\n",
    "    sepal_width = sample['Sepal.Width']\n",
    "    alpha = (sepal_width / sepal_length).mean()\n",
    "    return alpha\n",
    "\n"
   ]
  },
  {
   "cell_type": "markdown",
   "id": "ff94d66b",
   "metadata": {},
   "source": [
    "Test the code below"
   ]
  },
  {
   "cell_type": "code",
   "execution_count": 7,
   "id": "eda715cd",
   "metadata": {},
   "outputs": [
    {
     "data": {
      "text/plain": [
       "0.5759643359353188"
      ]
     },
     "execution_count": 7,
     "metadata": {},
     "output_type": "execute_result"
    }
   ],
   "source": [
    "alpha_func(df, range(100))"
   ]
  },
  {
   "cell_type": "markdown",
   "id": "f338b14e",
   "metadata": {},
   "source": [
    "_(ii)_ Construct a new bootstrap data set and recompute alpha"
   ]
  },
  {
   "cell_type": "code",
   "execution_count": null,
   "id": "34ee835f",
   "metadata": {},
   "outputs": [],
   "source": [
    "rng = np.random.default_rng(0)\n",
    "alpha_func(df,\n",
    "           rng.choice(100,\n",
    "                      100,\n",
    "                      replace=True))"
   ]
  },
  {
   "cell_type": "markdown",
   "id": "056080ff-7aec-41aa-bb61-763b390e4cf2",
   "metadata": {},
   "source": [
    "Imagine we are analysts working for a shipping company. The company wants to know the average length of iris' petals, to inform space allotment on an upcoming shipment. The relevant variable in the dataset is `Sepal.Length`. \n",
    "\n",
    "_(iii)_ Why is it (perhaps) not sufficient to simply calculate the mean of `Sepal.Length`? What more information will preforming a bootstrap provide to us?  \n",
    "\n",
    "Calculating the mean of Sepal.Length provides a single point estimate, but it does not give any information about the variability or uncertainty of this estimate. Bootstrapping provides a way to estimate the standard error, construct confidence intervals, and understand the distribution of the estimate, giving a more comprehensive understanding of the data.\n",
    "\n",
    "_(iv)_ We can perform bootstrapping in Python by defining a simple function using `boot_SE()` for computing the bootstrap standard error. Remember, because bootstrapping involves randomness, we must first set a seed for reproducibility!"
   ]
  },
  {
   "cell_type": "code",
   "execution_count": 9,
   "id": "77540f76-7747-4dba-8e77-e1ded54af536",
   "metadata": {},
   "outputs": [
    {
     "name": "stdout",
     "output_type": "stream",
     "text": [
      "Bootstrap Standard Error of Sepal.Length: 0.06649295592099295\n"
     ]
    }
   ],
   "source": [
    "# Add your code here to set the seed\n",
    "def boot_SE(data, num_bootstrap=1000, seed=0):\n",
    "    rng = np.random.default_rng(seed)\n",
    "    bootstrap_means = []\n",
    "    \n",
    "    for _ in range(num_bootstrap):\n",
    "        bootstrap_indices = rng.choice(data.index, size=len(data), replace=True)\n",
    "        bootstrap_sample = data.iloc[bootstrap_indices]\n",
    "        bootstrap_means.append(bootstrap_sample['Sepal.Length'].mean())\n",
    "    \n",
    "    bootstrap_means = np.array(bootstrap_means)\n",
    "    se_bootstrap = np.std(bootstrap_means)\n",
    "    \n",
    "    return se_bootstrap\n",
    "\n",
    "# Calculate the bootstrap standard error for Sepal.Length\n",
    "sepal_length_bootstrap_se = boot_SE(df, num_bootstrap=1000, seed=0)\n",
    "print(f\"Bootstrap Standard Error of Sepal.Length: {sepal_length_bootstrap_se}\")"
   ]
  },
  {
   "cell_type": "markdown",
   "id": "8a543472",
   "metadata": {},
   "source": [
    "_(v)_ Evaluate the accuracy of our alpha estimate with B = 1000"
   ]
  },
  {
   "cell_type": "code",
   "execution_count": 10,
   "id": "9ed41c4e",
   "metadata": {},
   "outputs": [
    {
     "name": "stdout",
     "output_type": "stream",
     "text": [
      "Bootstrap Standard Error of Alpha: 0.012929157502206474\n",
      "Bootstrap Mean of Alpha: 0.5347112753480328\n",
      "Bootstrap 95% Confidence Interval of Alpha: [0.51002569 0.55954667]\n"
     ]
    }
   ],
   "source": [
    "# Your code here\n",
    "def boot_alpha(data, num_bootstrap=1000, seed=0):\n",
    "    rng = np.random.default_rng(seed)\n",
    "    bootstrap_alphas = []\n",
    "    \n",
    "    for _ in range(num_bootstrap):\n",
    "        bootstrap_indices = rng.choice(data.index, size=len(data), replace=True)\n",
    "        bootstrap_sample = data.iloc[bootstrap_indices]\n",
    "        alpha = alpha_func(bootstrap_sample, bootstrap_sample.index)\n",
    "        bootstrap_alphas.append(alpha)\n",
    "    \n",
    "    bootstrap_alphas = np.array(bootstrap_alphas)\n",
    "    se_bootstrap = np.std(bootstrap_alphas)\n",
    "    alpha_mean = np.mean(bootstrap_alphas)\n",
    "    \n",
    "    # Compute confidence interval (e.g., 95% CI)\n",
    "    alpha_ci = np.percentile(bootstrap_alphas, [2.5, 97.5])\n",
    "    \n",
    "    return se_bootstrap, alpha_mean, alpha_ci\n",
    "\n",
    "# Evaluate the accuracy of alpha estimate with B = 1000\n",
    "se_alpha, alpha_mean, alpha_ci = boot_alpha(df, num_bootstrap=1000, seed=0)\n",
    "\n",
    "print(f\"Bootstrap Standard Error of Alpha: {se_alpha}\")\n",
    "print(f\"Bootstrap Mean of Alpha: {alpha_mean}\")\n",
    "print(f\"Bootstrap 95% Confidence Interval of Alpha: {alpha_ci}\")"
   ]
  },
  {
   "cell_type": "markdown",
   "id": "2e5e0c7f",
   "metadata": {},
   "source": [
    "_(vi)_ What is the original mean value of `Sepal.Length`?"
   ]
  },
  {
   "cell_type": "code",
   "execution_count": 11,
   "id": "7c9d5004",
   "metadata": {},
   "outputs": [
    {
     "name": "stdout",
     "output_type": "stream",
     "text": [
      "Original Mean of Sepal.Length: 5.843333333333334\n"
     ]
    }
   ],
   "source": [
    "# Your code here\n",
    "original_mean_sepal_length = df['Sepal.Length'].mean()\n",
    "print(f\"Original Mean of Sepal.Length: {original_mean_sepal_length}\")"
   ]
  },
  {
   "cell_type": "markdown",
   "id": "785fe758-f395-40b6-a9a3-28ec2efeba29",
   "metadata": {},
   "source": [
    "Next, let's create a new bootstrapping to bootstrap samples (`boot_se_samples`) of `Sepal.Length`, in order to compute its bootstrapped mean and standard deviation.\n",
    "\n",
    "_(vii)_. Write code to review the bootstrapped mean value, and the standard deviation of the bootstrapped samples. Compare the mean against its original value. Then, review the bootstrapped range, by using `t_range = np.ptp(boot_se_samples)`."
   ]
  },
  {
   "cell_type": "code",
   "execution_count": 12,
   "id": "7686243c",
   "metadata": {},
   "outputs": [
    {
     "name": "stdout",
     "output_type": "stream",
     "text": [
      "Bootstrapped Mean: 5.842284666666666\n",
      "Bootstrapped Standard Deviation: 0.06649295592099295\n"
     ]
    }
   ],
   "source": [
    "# Add your code here\n",
    "def boot_SE_samples(data, num_bootstrap=1000, seed=0):\n",
    "    rng = np.random.default_rng(seed)\n",
    "    bootstrap_means = []\n",
    "    \n",
    "    for _ in range(num_bootstrap):\n",
    "        bootstrap_indices = rng.choice(data.index, size=len(data), replace=True)\n",
    "        bootstrap_sample = data.iloc[bootstrap_indices]\n",
    "        bootstrap_means.append(bootstrap_sample['Sepal.Length'].mean())\n",
    "    \n",
    "    bootstrap_means = np.array(bootstrap_means)\n",
    "    return bootstrap_means\n",
    "\n",
    "# Get the bootstrap samples\n",
    "bootstrap_samples = boot_SE_samples(df, num_bootstrap=1000, seed=0)\n",
    "\n",
    "# Calculate the mean and standard deviation of the bootstrapped samples\n",
    "boot_mean = np.mean(bootstrap_samples)\n",
    "boot_std = np.std(bootstrap_samples)\n",
    "print(f\"Bootstrapped Mean: {boot_mean}\")\n",
    "print(f\"Bootstrapped Standard Deviation: {boot_std}\")"
   ]
  },
  {
   "cell_type": "markdown",
   "id": "66c6c663-f3bb-4a15-8896-6dccfb7259fd",
   "metadata": {},
   "source": [
    "_(viii)_ Next, let's compute 95% confidence intervals, for the mean value of iris sepal length. (Hint: use the `np.percentile` function)"
   ]
  },
  {
   "cell_type": "code",
   "execution_count": 13,
   "id": "74de4a76-e500-4c93-82a9-e7365cc86c91",
   "metadata": {},
   "outputs": [
    {
     "name": "stdout",
     "output_type": "stream",
     "text": [
      "95% Confidence Interval for Sepal.Length: [5.718616666666667, 5.974716666666667]\n"
     ]
    }
   ],
   "source": [
    "# Add your code here\n",
    "ci_lower, ci_upper = np.percentile(bootstrap_samples, [2.5, 97.5])\n",
    "print(f\"95% Confidence Interval for Sepal.Length: [{ci_lower}, {ci_upper}]\")"
   ]
  },
  {
   "cell_type": "markdown",
   "id": "488e54f7-ebe4-4740-835c-9832320005d0",
   "metadata": {},
   "source": [
    "_(ix)_. Use the plot function to create an histogram of the bootstrapped samples. What does this histogram show ?"
   ]
  },
  {
   "cell_type": "code",
   "execution_count": 14,
   "id": "4fca4e3f",
   "metadata": {},
   "outputs": [
    {
     "data": {
      "image/png": "[encoded data removed]",
      "text/plain": [
       "<Figure size 640x480 with 1 Axes>"
      ]
     },
     "metadata": {},
     "output_type": "display_data"
    }
   ],
   "source": [
    "# Create a figure and axis\n",
    "fig, ax = plt.subplots()\n",
    "\n",
    "# Create the histogram\n",
    "ax.hist(bootstrap_samples, bins=30, edgecolor='black')\n",
    "\n",
    "# Add a title\n",
    "ax.set_title('Histogram of Bootstrapped Sepal.Length Means')\n",
    "\n",
    "# Add a label to the x-axis\n",
    "ax.set_xlabel('Bootstrapped Mean of Sepal.Length')\n",
    "\n",
    "# Add a label to the y-axis\n",
    "ax.set_ylabel('Frequency')\n",
    "\n",
    "# Show the plot\n",
    "plt.show()"
   ]
  },
  {
   "cell_type": "markdown",
   "id": "6edc3112",
   "metadata": {},
   "source": [
    "The histogram helps us understand the distribution of the bootstrapped sample means and provides a visual way to see the variability and uncertainty of the mean Sepal.Length estimate. The histogram indicates that the mean Sepal.Length is around 5.85 cm, with most bootstrapped means falling within a narrow range around this value."
   ]
  },
  {
   "cell_type": "markdown",
   "id": "bfa9a095-9c7a-4ab5-aa99-b11bf419fae0",
   "metadata": {},
   "source": [
    "_(x)_ Given your bootstrapped analysis, what do you recommend to shipping company? "
   ]
  },
  {
   "cell_type": "code",
   "execution_count": null,
   "id": "5e83202e-4aab-44bb-8586-5d0e82e9e201",
   "metadata": {},
   "outputs": [],
   "source": [
    "# Write your answer here\n",
    "Based on the bootstrapped analysis, we can provide the shipping company with the average length of iris' petals along with a measure of uncertainty. This includes the original mean, the bootstrap mean, the standard error, and the 95% confidence interval. These metrics give a comprehensive view of the expected petal length and its variability, helping in more accurate space allotment for the shipment."
   ]
  },
  {
   "cell_type": "markdown",
   "id": "466943e8",
   "metadata": {},
   "source": [
    "# Criteria\n",
    "\n",
    "|Criteria            |Complete           |Incomplete          |\n",
    "|--------------------|---------------|--------------|\n",
    "|Bootstrapping|All steps are done correctly and the answers are correct.|At least one step is done incorrectly leading to a wrong answer.|"
   ]
  },
  {
   "cell_type": "markdown",
   "id": "68b8a226",
   "metadata": {},
   "source": [
    "## Submission Information\n",
    "\n",
    "🚨 **Please review our [Assignment Submission Guide](https://github.com/UofT-DSI/onboarding/blob/main/onboarding_documents/submissions.md)** 🚨 for detailed instructions on how to format, branch, and submit your work. Following these guidelines is crucial for your submissions to be evaluated correctly.\n",
    "\n",
    "### Note:\n",
    "\n",
    "If you like, you may collaborate with others in the cohort. If you choose to do so, please indicate with whom you have worked with in your pull request by tagging their GitHub username. Separate submissions are required.\n",
    "\n",
    "\n",
    "### Submission Parameters:\n",
    "* Submission Due Date: `HH:MM AM/PM - DD/MM/YYYY`\n",
    "* The branch name for your repo should be: `assignment-3`\n",
    "* What to submit for this assignment:\n",
    "    * This Jupyter Notebook (assignment_3.ipynb) should be populated and should be the only change in your pull request.\n",
    "* What the pull request link should look like for this assignment: `https://github.com/<your_github_username>/applying_statistical_concepts/pull/<pr_id>`\n",
    "    * Open a private window in your browser. Copy and paste the link to your pull request into the address bar. Make sure you can see your pull request properly. This helps the technical facilitator and learning support staff review your submission easily.\n",
    "\n",
    "Checklist:\n",
    "- [ ] Created a branch with the correct naming convention.\n",
    "- [ ] Ensured that the repository is public.\n",
    "- [ ] Reviewed the PR description guidelines and adhered to them.\n",
    "- [ ] Verify that the link is accessible in a private browser window.\n",
    "\n",
    "If you encounter any difficulties or have questions, please don't hesitate to reach out to our team via our Slack at `#cohort-3-help`. Our Technical Facilitators and Learning Support staff are here to help you navigate any challenges.\n"
   ]
  }
 ],
 "metadata": {
  "kernelspec": {
   "display_name": "Python 3.10.4",
   "language": "python",
   "name": "python3"
  },
  "language_info": {
   "codemirror_mode": {
    "name": "ipython",
    "version": 3
   },
   "file_extension": ".py",
   "mimetype": "text/x-python",
   "name": "python",
   "nbconvert_exporter": "python",
   "pygments_lexer": "ipython3",
   "version": "3.9.15"
  },
  "vscode": {
   "interpreter": {
    "hash": "497a84dc8fec8cf8d24e7e87b6d954c9a18a327edc66feb9b9ea7e9e72cc5c7e"
   }
  }
 },
 "nbformat": 4,
 "nbformat_minor": 5
}
